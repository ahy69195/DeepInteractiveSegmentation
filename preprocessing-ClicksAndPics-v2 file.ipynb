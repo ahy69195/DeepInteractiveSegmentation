{
 "cells": [
  {
   "cell_type": "markdown",
   "id": "dd90e37e",
   "metadata": {},
   "source": [
    "# Description"
   ]
  },
  {
   "cell_type": "markdown",
   "id": "5a5e17ad",
   "metadata": {},
   "source": [
    "This preprocessing file works in 2 sections. It first normalizes the pictures into 256x256 images and generates the random pixel clicks for the foreground and background. Second, it then saves the generated foreground and background density map pictures in the foreground and background folders. Additionally, I save the foreground and background pixel cliks into a pickle file that can be easily downloaded. "
   ]
  },
  {
   "cell_type": "code",
   "execution_count": 58,
   "id": "a2f92df3",
   "metadata": {},
   "outputs": [],
   "source": [
    "import glob\n",
    "import cv2\n",
    "import numpy as np\n",
    "import random\n",
    "import pickle"
   ]
  },
  {
   "cell_type": "markdown",
   "id": "bf7cc5c0",
   "metadata": {},
   "source": [
    "# Normalize Car Images"
   ]
  },
  {
   "cell_type": "code",
   "execution_count": 59,
   "id": "b764b9e9",
   "metadata": {},
   "outputs": [
    {
     "name": "stdout",
     "output_type": "stream",
     "text": [
      "197\n"
     ]
    }
   ],
   "source": [
    "# SAVING CAR IMAGES\n",
    "\n",
    "cars = glob.glob('Car Images/cars/*.png')\n",
    "\n",
    "print(len(cars))"
   ]
  },
  {
   "cell_type": "code",
   "execution_count": 60,
   "id": "8a316534",
   "metadata": {},
   "outputs": [
    {
     "name": "stdout",
     "output_type": "stream",
     "text": [
      "(197, 480, 640, 3)\n",
      "(480, 640, 3)\n"
     ]
    }
   ],
   "source": [
    "image_cars = []\n",
    "#image_cars.append(cv2.imread(cars[0]))\n",
    "for x in range(len(cars)):\n",
    "    image_cars.append(cv2.imread(cars[x]))\n",
    "\n",
    "image_cars = np.array(image_cars)\n",
    "print(np.shape(image_cars))\n",
    "print(image_cars[0].shape)"
   ]
  },
  {
   "cell_type": "code",
   "execution_count": 61,
   "id": "c23c1816",
   "metadata": {},
   "outputs": [],
   "source": [
    "width = 256\n",
    "height = 256\n",
    "\n",
    "dim = (width, height)\n",
    "  \n",
    "# resize image\n",
    "resized_cars = []\n",
    "for x in range(len(image_cars)):\n",
    "    resized_cars.append(cv2.resize(image_cars[x], dim, interpolation = cv2.INTER_AREA))"
   ]
  },
  {
   "cell_type": "code",
   "execution_count": 62,
   "id": "9a1a7de1",
   "metadata": {},
   "outputs": [
    {
     "name": "stdout",
     "output_type": "stream",
     "text": [
      "(197, 256, 256, 3)\n"
     ]
    }
   ],
   "source": [
    "print(np.shape(resized_cars))"
   ]
  },
  {
   "cell_type": "code",
   "execution_count": 63,
   "id": "c4b54fce",
   "metadata": {},
   "outputs": [
    {
     "name": "stdout",
     "output_type": "stream",
     "text": [
      "(197, 256, 256, 3)\n",
      "(256, 256, 3)\n",
      "(256, 256, 3)\n"
     ]
    }
   ],
   "source": [
    "# THiS CELL CONVERTS THE SHAPE OF THE CARS TO INPUT CHANNELS FIRST\n",
    "#for i in range(len(resized_cars)):\n",
    "#    resized_cars[i] = np.moveaxis(resized_cars[i], -1, 0)   # hopefully work\n",
    "\n",
    "print(np.shape(resized_cars))\n",
    "print(np.shape(resized_cars[0]))\n",
    "print(np.shape(resized_cars[1]))"
   ]
  },
  {
   "cell_type": "code",
   "execution_count": 64,
   "id": "90862248",
   "metadata": {},
   "outputs": [
    {
     "name": "stdout",
     "output_type": "stream",
     "text": [
      "1.png\n",
      "108.png\n"
     ]
    }
   ],
   "source": [
    "print(cars[0][16:])\n",
    "print(cars[10][16:])"
   ]
  },
  {
   "cell_type": "code",
   "execution_count": 65,
   "id": "ff0cd533",
   "metadata": {},
   "outputs": [],
   "source": [
    "#SAVING RESIZED CAR IMAGES INTO FOLDER\n",
    "for i in range(len(resized_cars)):\n",
    "    carLoc = './normalizedCarImages/'+ str(cars[i][16:]) \n",
    "    cv2.imwrite(carLoc, resized_cars[i])"
   ]
  },
  {
   "cell_type": "markdown",
   "id": "a708110a",
   "metadata": {},
   "source": [
    "# Generate Foreground and Background Clicks"
   ]
  },
  {
   "cell_type": "markdown",
   "id": "5461867e",
   "metadata": {},
   "source": [
    "## Density Map Subsection"
   ]
  },
  {
   "cell_type": "markdown",
   "id": "4f98b388",
   "metadata": {},
   "source": [
    "This is the Create Density Map function that takes in the number of foreground clicks, background clicks, and the mask size. Also, a side note, in this method, it assumes you take in a 3 channle input mask image; however, the mask channels are all assumed to be the same which is why only the first channel is taken at index 0 in the second dimension. (channel, r, c). Channel is always zero basically"
   ]
  },
  {
   "cell_type": "code",
   "execution_count": 66,
   "id": "293de4a9",
   "metadata": {},
   "outputs": [],
   "source": [
    "# I'm assuming mask is a 3 color channel input image array/list, but all channels are the same value\n",
    "def createDensity(foreClick, backClick, mask, densitySize):\n",
    "    \n",
    "    total  = np.zeros((len(mask[0][0]), len(mask[0][0])))\n",
    "    for i in range(len(mask[0][0])):\n",
    "        for j in range(len(mask[0][0])):\n",
    "            a = (mask[0][i][j])\n",
    "            if a > 0:\n",
    "                total[i][j] = 1\n",
    "    \n",
    "    x = [0] * foreClick\n",
    "    y = [0] * foreClick\n",
    "    count = 0\n",
    "    found = False\n",
    "    while (found == False): \n",
    "        x[count] = random.randint(0, len(mask[0][0])-1)\n",
    "        y[count] = random.randint(0, len(mask[0][0])-1)\n",
    "        \n",
    "        #print(x[count])\n",
    "        #print(y[count])\n",
    "        \n",
    "        if (total[x[count]][y[count]] >= 1):\n",
    "            count+=1\n",
    "        if (count >= foreClick):\n",
    "            found = True\n",
    "    \n",
    "    # Foreground pixel Locations\n",
    "    foreground = np.concatenate(([x], [y]), axis=0)\n",
    "    \n",
    "    x = [0] * backClick\n",
    "    y = [0] * backClick\n",
    "    count = 0\n",
    "    found = False\n",
    "    while (found == False): \n",
    "        x[count] = random.randint(0, len(mask[0][0])-1)\n",
    "        y[count] = random.randint(0, len(mask[0][0])-1)\n",
    "        \n",
    "        #print(x[count])\n",
    "        #print(y[count])\n",
    "        \n",
    "        if (total[x[count]][y[count]] == 0):\n",
    "            count+=1\n",
    "        if (count >= backClick):\n",
    "            found = True\n",
    "    \n",
    "    # Background pixel locations\n",
    "    background = np.concatenate(([x], [y]), axis=0)\n",
    "    \n",
    "    print(foreground)\n",
    "    print(background)\n",
    "    \n",
    "    # Density Maps\n",
    "    foreDensMap = np.zeros((len(mask[0][0]), len(mask[0][0])))\n",
    "    backDensMap = np.zeros((len(mask[0][0]), len(mask[0][0])))\n",
    "    for i in range(len(mask[0][0])):\n",
    "        for j in range(len(mask[0][0])):\n",
    "            place = 0\n",
    "            distance = ((i-foreground[0][0])**2+(j-foreground[1][0])**2)**.5\n",
    "            for point in range(1, foreClick):\n",
    "                a = ((i-foreground[0][point])**2+(j-foreground[1][point])**2)**.5\n",
    "                if (a < distance):\n",
    "                    distance = a\n",
    "                    place = point\n",
    "            #Z = 0.0\n",
    "            #normalized = (((i-300)**2+(j-300)**2)**.5)\n",
    "            Z = distance * densitySize\n",
    "            #print(Z)\n",
    "            #print(type(Z))\n",
    "            #print(foreground[0][place])\n",
    "            foreDensMap[i][j] = Z\n",
    "    \n",
    "    for i in range(len(mask[0][0])):\n",
    "        for j in range(len(mask[0][0])):\n",
    "            place = 0\n",
    "            distance = ((i-background[0][0])**2+(j-background[1][0])**2)**.5\n",
    "            for point in range(1, backClick):\n",
    "                a = ((i-background[0][point])**2+(j-background[1][point])**2)**.5\n",
    "                if (a < distance):\n",
    "                    distance = a\n",
    "                    place = point\n",
    "            Z = distance * densitySize\n",
    "            backDensMap[i][j] = Z\n",
    "    \n",
    "    \n",
    "    return foreDensMap, backDensMap, foreground, background"
   ]
  },
  {
   "cell_type": "markdown",
   "id": "79fe7552",
   "metadata": {},
   "source": [
    "## Total Mask Pixel Count"
   ]
  },
  {
   "cell_type": "markdown",
   "id": "d2a53249",
   "metadata": {},
   "source": [
    "This method returns the total number of pixels that are in the activated mask divided by the total number of pixels in the mask immage. Assumes 3 channel input, but all channels are the same. This is to be used in the density map function to create proportional density maps to the size of the total pixel area in the mask.\n",
    "\n",
    "ACTUALLY, THIS IS NOT GOOD BECAUSE IN PRACTICE YOU DO NOT KNOW THE TOTAL SIZE OF THE MASK. BETTER TRAINING ACCURACY BUT LOWER TESTING ACCURACY FOR SURE."
   ]
  },
  {
   "cell_type": "code",
   "execution_count": 67,
   "id": "6bf24bd0",
   "metadata": {},
   "outputs": [],
   "source": [
    "def maskPixelFraction(mask):\n",
    "    totalMaskPixel = 0\n",
    "    for i in range(len(mask[0][0])):\n",
    "        for j in range(en(mask[0][0])):\n",
    "            if mask[0][i][j] > 0:\n",
    "                totalMaskPixel += 1\n",
    "    totalPixel = len(mask[0][0])**2\n",
    "    return totalMaskPixel / totalPixel\n",
    "    "
   ]
  },
  {
   "cell_type": "markdown",
   "id": "1a90b497",
   "metadata": {},
   "source": [
    "## Mask Normalization Subsection"
   ]
  },
  {
   "cell_type": "markdown",
   "id": "b4211b91",
   "metadata": {},
   "source": [
    "This section basically reads in the masks and normalizes them."
   ]
  },
  {
   "cell_type": "code",
   "execution_count": 68,
   "id": "b1ae16eb",
   "metadata": {},
   "outputs": [
    {
     "name": "stdout",
     "output_type": "stream",
     "text": [
      "197\n"
     ]
    }
   ],
   "source": [
    "masks = glob.glob('Car Images/masks/*.png')\n",
    "\n",
    "print(len(masks))"
   ]
  },
  {
   "cell_type": "code",
   "execution_count": 69,
   "id": "f764b6a1",
   "metadata": {},
   "outputs": [
    {
     "name": "stdout",
     "output_type": "stream",
     "text": [
      "(197, 480, 640, 3)\n",
      "(480, 640, 3)\n"
     ]
    }
   ],
   "source": [
    "image_masks = []\n",
    "#image_masks.append(cv2.imread(masks[0]))\n",
    "for x in range(len(masks)):\n",
    "    image_masks.append(cv2.imread(masks[x]))\n",
    "\n",
    "image_masks = np.array(image_masks)\n",
    "print(np.shape(image_masks))\n",
    "print(image_masks[0].shape)"
   ]
  },
  {
   "cell_type": "code",
   "execution_count": 70,
   "id": "5aae125e",
   "metadata": {},
   "outputs": [],
   "source": [
    "width = 256\n",
    "height = 256\n",
    "\n",
    "dim = (width, height)\n",
    "  \n",
    "# resize mask\n",
    "resized_masks = []\n",
    "for x in range(len(image_masks)):\n",
    "    resized_masks.append(cv2.resize(image_masks[x], dim, interpolation = cv2.INTER_AREA))"
   ]
  },
  {
   "cell_type": "code",
   "execution_count": 71,
   "id": "d546067f",
   "metadata": {},
   "outputs": [
    {
     "name": "stdout",
     "output_type": "stream",
     "text": [
      "(197, 256, 256, 3)\n"
     ]
    }
   ],
   "source": [
    "print(np.shape(resized_masks))\n",
    "#print(np.shape(image_masks[196, 300:, 300:]))\n",
    "#print(image_masks[196, 300:, 300:])"
   ]
  },
  {
   "cell_type": "code",
   "execution_count": 72,
   "id": "5321ce48",
   "metadata": {},
   "outputs": [
    {
     "name": "stdout",
     "output_type": "stream",
     "text": [
      "(197, 3, 256, 256)\n",
      "(3, 256, 256)\n",
      "(3, 256, 256)\n"
     ]
    }
   ],
   "source": [
    "for i in range(len(resized_masks)):\n",
    "    resized_masks[i] = np.moveaxis(resized_masks[i], -1, 0)   # hopefully works\n",
    "\n",
    "print(np.shape(resized_masks))\n",
    "print(np.shape(resized_masks[0]))\n",
    "print(np.shape(resized_masks[1]))"
   ]
  },
  {
   "cell_type": "code",
   "execution_count": 73,
   "id": "f1e59649",
   "metadata": {},
   "outputs": [
    {
     "name": "stdout",
     "output_type": "stream",
     "text": [
      "<class 'numpy.ndarray'>\n"
     ]
    }
   ],
   "source": [
    "print(type(resized_masks[0]))"
   ]
  },
  {
   "cell_type": "code",
   "execution_count": 74,
   "id": "793f78e4",
   "metadata": {},
   "outputs": [],
   "source": [
    "# Saving the MASKS array to be used later into PICKLE\n",
    "\n",
    "file_nameMasks = \"Masks.pkl\"\n",
    "\n",
    "open_file = open(file_nameMasks, \"wb\")\n",
    "pickle.dump(resized_masks, open_file)\n",
    "open_file.close()"
   ]
  },
  {
   "cell_type": "markdown",
   "id": "0347ea0e",
   "metadata": {},
   "source": [
    "## Foreground and Background- Density Map and Click Array Generation Subsection"
   ]
  },
  {
   "cell_type": "markdown",
   "id": "db834e23",
   "metadata": {},
   "source": [
    "This section creates the randomly genereated foreground density maps, background density maps, foreground clicks, background clicks,"
   ]
  },
  {
   "cell_type": "code",
   "execution_count": 75,
   "id": "7541c05c",
   "metadata": {},
   "outputs": [
    {
     "name": "stdout",
     "output_type": "stream",
     "text": [
      "197\n"
     ]
    }
   ],
   "source": [
    "print(len(resized_masks))"
   ]
  },
  {
   "cell_type": "code",
   "execution_count": null,
   "id": "a2a29548",
   "metadata": {},
   "outputs": [],
   "source": [
    "foregroundArray = []\n",
    "backgroundArray = []\n",
    "foregroundClicks = []\n",
    "backgroundClicks = []\n",
    "\n",
    "x = random.randint(1, 3)\n",
    "y = random.randint(1, 3)\n",
    "print(len(resized_masks))\n",
    "for i in range(len(resized_masks)):\n",
    "    print(\"iteration: \", i + 1)\n",
    "    a, b, c, d = (createDensity(x, y, resized_masks[i], 2))\n",
    "    foregroundArray.append(a)\n",
    "    backgroundArray.append(b)\n",
    "    foregroundClicks.append(c)\n",
    "    backgroundClicks.append(d)\n",
    "    x = random.randint(1, 3)\n",
    "    y = random.randint(1, 3)"
   ]
  },
  {
   "cell_type": "code",
   "execution_count": null,
   "id": "e8613dc2",
   "metadata": {},
   "outputs": [],
   "source": [
    "# Saving the density maps into the foreground and background folders respectively\n",
    "\n",
    "for i in range(len(backgroundArray)):\n",
    "    fg = './foreground/fg'+ str(masks[i][17:]) \n",
    "    bg = './background/bg' + str(cars[i][16:]) \n",
    "    cv2.imwrite(fg, foregroundArray[i])\n",
    "    cv2.imwrite(bg, backgroundArray[i])\n"
   ]
  },
  {
   "cell_type": "code",
   "execution_count": null,
   "id": "7d187621",
   "metadata": {},
   "outputs": [],
   "source": [
    "# Saving the foreground and background click array to be used later into PICKLE\n",
    "\n",
    "file_name1 = \"fg_randomclicks.pkl\"\n",
    "file_name2 = \"bg_randomclicks.pkl\"\n",
    "\n",
    "open_file = open(file_name1, \"wb\")\n",
    "pickle.dump(foregroundClicks, open_file)\n",
    "open_file.close()\n",
    "\n",
    "open_file = open(file_name2, \"wb\")\n",
    "pickle.dump(backgroundClicks, open_file)\n",
    "open_file.close()"
   ]
  },
  {
   "cell_type": "markdown",
   "id": "8a913ae2",
   "metadata": {},
   "source": [
    "# Saving the UNET Array (3 car dimensions + fg & bg dimensions)"
   ]
  },
  {
   "cell_type": "code",
   "execution_count": null,
   "id": "34e507c8",
   "metadata": {},
   "outputs": [],
   "source": [
    "# THiS CELL CONVERTS THE SHAPE OF THE CARS TO INPUT CHANNELS FIRST\n",
    "for i in range(len(resized_cars)):\n",
    "    resized_cars[i] = np.moveaxis(resized_cars[i], -1, 0)   # hopefully work\n",
    "\n",
    "print(type(resized_cars))\n",
    "#print(masks)\n",
    "#print(cars)\n",
    "print(np.shape(resized_cars))\n",
    "# Thank god the masks and cars were read in order ! ! !"
   ]
  },
  {
   "cell_type": "code",
   "execution_count": null,
   "id": "72ea8284",
   "metadata": {},
   "outputs": [],
   "source": [
    "print(np.shape(foregroundArray))"
   ]
  },
  {
   "cell_type": "code",
   "execution_count": null,
   "id": "c5470582",
   "metadata": {},
   "outputs": [],
   "source": [
    "foregroundExpand = np.expand_dims(foregroundArray, axis=1)"
   ]
  },
  {
   "cell_type": "code",
   "execution_count": null,
   "id": "04df0852",
   "metadata": {},
   "outputs": [],
   "source": [
    "print(np.shape(foregroundExpand))"
   ]
  },
  {
   "cell_type": "code",
   "execution_count": null,
   "id": "585a1f27",
   "metadata": {},
   "outputs": [],
   "source": [
    "backgroundExpand = np.expand_dims(backgroundArray, axis=1)"
   ]
  },
  {
   "cell_type": "code",
   "execution_count": null,
   "id": "a69890ad",
   "metadata": {},
   "outputs": [],
   "source": [
    "print(np.shape(backgroundExpand))"
   ]
  },
  {
   "cell_type": "code",
   "execution_count": null,
   "id": "386535b1",
   "metadata": {},
   "outputs": [],
   "source": [
    "unetArray = np.concatenate((resized_cars, foregroundExpand, backgroundExpand), axis=1)"
   ]
  },
  {
   "cell_type": "code",
   "execution_count": null,
   "id": "609a32cc",
   "metadata": {},
   "outputs": [],
   "source": [
    "print(np.shape(unetArray))"
   ]
  },
  {
   "cell_type": "code",
   "execution_count": null,
   "id": "fe6c2417",
   "metadata": {},
   "outputs": [],
   "source": [
    "c = unetArray[0]\n",
    "print(np.shape(c))"
   ]
  },
  {
   "cell_type": "code",
   "execution_count": null,
   "id": "949ad480",
   "metadata": {},
   "outputs": [],
   "source": [
    "# Saving the UNET array to be used later into PICKLE\n",
    "\n",
    "file_nameUnet = \"UnetArray.pkl\"\n",
    "\n",
    "open_file = open(file_nameUnet, \"wb\")\n",
    "pickle.dump(unetArray, open_file)\n",
    "open_file.close()"
   ]
  },
  {
   "cell_type": "code",
   "execution_count": null,
   "id": "bf5a72a3",
   "metadata": {},
   "outputs": [],
   "source": []
  }
 ],
 "metadata": {
  "kernelspec": {
   "display_name": "Python 3",
   "language": "python",
   "name": "python3"
  },
  "language_info": {
   "codemirror_mode": {
    "name": "ipython",
    "version": 3
   },
   "file_extension": ".py",
   "mimetype": "text/x-python",
   "name": "python",
   "nbconvert_exporter": "python",
   "pygments_lexer": "ipython3",
   "version": "3.8.8"
  }
 },
 "nbformat": 4,
 "nbformat_minor": 5
}

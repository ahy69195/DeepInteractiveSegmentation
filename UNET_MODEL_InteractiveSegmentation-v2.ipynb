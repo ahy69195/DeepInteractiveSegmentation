{
 "cells": [
  {
   "cell_type": "code",
   "execution_count": 11,
   "id": "6cb44e6a",
   "metadata": {},
   "outputs": [],
   "source": [
    "import torch.nn as nn\n",
    "import pickle\n",
    "import numpy as np\n",
    "import torch\n",
    "import torchvision\n",
    "import torch.nn.functional as F\n",
    "import time\n",
    "import matplotlib.pyplot as plt\n",
    "import numpy as np\n",
    "import cv2"
   ]
  },
  {
   "cell_type": "markdown",
   "id": "fbccab34",
   "metadata": {},
   "source": [
    "# Reading in Data (Unet Array, Labels/Masks)"
   ]
  },
  {
   "cell_type": "code",
   "execution_count": 12,
   "id": "5c52af52",
   "metadata": {},
   "outputs": [],
   "source": [
    "# Mask array, which is the labels\n",
    "file_nameMasks = \"Masks.pkl\"\n",
    "\n",
    "open_file = open(file_nameMasks, \"rb\")\n",
    "labels = pickle.load(open_file)\n",
    "open_file.close()"
   ]
  },
  {
   "cell_type": "code",
   "execution_count": 13,
   "id": "516e82a4",
   "metadata": {},
   "outputs": [],
   "source": [
    "a = np.moveaxis(labels[0], 0, 2)"
   ]
  },
  {
   "cell_type": "code",
   "execution_count": 14,
   "id": "66322216",
   "metadata": {},
   "outputs": [
    {
     "name": "stdout",
     "output_type": "stream",
     "text": [
      "(256, 256, 3)\n"
     ]
    }
   ],
   "source": [
    "print(np.shape(a))"
   ]
  },
  {
   "cell_type": "code",
   "execution_count": 15,
   "id": "a7b87f2d",
   "metadata": {},
   "outputs": [
    {
     "data": {
      "text/plain": [
       "True"
      ]
     },
     "execution_count": 15,
     "metadata": {},
     "output_type": "execute_result"
    }
   ],
   "source": [
    "cv2.imwrite('test.png', a)"
   ]
  },
  {
   "cell_type": "code",
   "execution_count": 16,
   "id": "e2b47d73",
   "metadata": {},
   "outputs": [
    {
     "name": "stdout",
     "output_type": "stream",
     "text": [
      "(197, 3, 256, 256)\n"
     ]
    }
   ],
   "source": [
    "print(np.shape(labels))"
   ]
  },
  {
   "cell_type": "code",
   "execution_count": 79,
   "id": "0d12860e",
   "metadata": {},
   "outputs": [],
   "source": [
    "# Unet array, which is the training data\n",
    "file_nameUnet = \"UnetArray.pkl\"\n",
    "\n",
    "open_file = open(file_nameUnet, \"rb\")\n",
    "unetArray = pickle.load(open_file)\n",
    "open_file.close()"
   ]
  },
  {
   "cell_type": "code",
   "execution_count": 80,
   "id": "e7dab14c",
   "metadata": {},
   "outputs": [
    {
     "name": "stdout",
     "output_type": "stream",
     "text": [
      "(197, 5, 256, 256)\n"
     ]
    }
   ],
   "source": [
    "print(np.shape(unetArray))"
   ]
  },
  {
   "cell_type": "markdown",
   "id": "f9982cf1",
   "metadata": {},
   "source": [
    "# UNET MODEL"
   ]
  },
  {
   "cell_type": "code",
   "execution_count": 81,
   "id": "ab0a0263",
   "metadata": {},
   "outputs": [],
   "source": [
    "class Block(nn.Module):\n",
    "    def __init__(self, in_ch, out_ch):\n",
    "        super().__init__()\n",
    "        self.conv1 = nn.Conv2d(in_ch, out_ch, 3)\n",
    "        self.relu  = nn.ReLU()\n",
    "        self.conv2 = nn.Conv2d(out_ch, out_ch, 3)\n",
    "        self.batchnorm = nn.BatchNorm2d(out_ch)\n",
    "    \n",
    "    def forward(self, x):\n",
    "        return self.relu(self.batchnorm(self.conv2(self.relu(self.batchnorm(self.conv1(x))))))"
   ]
  },
  {
   "cell_type": "code",
   "execution_count": 82,
   "id": "342399bf",
   "metadata": {},
   "outputs": [],
   "source": [
    "class Encoder(nn.Module):\n",
    "    def __init__(self, chs=(5,64,128,256,512,1024)):\n",
    "        super().__init__()\n",
    "        self.enc_blocks = nn.ModuleList([Block(chs[i], chs[i+1]) for i in range(len(chs)-1)])\n",
    "        self.pool = nn.MaxPool2d(2)\n",
    "    \n",
    "    def forward(self, x):\n",
    "        ftrs = []\n",
    "        for block in self.enc_blocks:\n",
    "            x = block(x)\n",
    "            ftrs.append(x)\n",
    "            x = self.pool(x)\n",
    "        return ftrs"
   ]
  },
  {
   "cell_type": "code",
   "execution_count": 83,
   "id": "8ef7dd20",
   "metadata": {},
   "outputs": [],
   "source": [
    "class Decoder(nn.Module):\n",
    "    def __init__(self, chs=(1024, 512, 256, 128, 64)):\n",
    "        super().__init__()\n",
    "        self.chs         = chs\n",
    "        self.upconvs    = nn.ModuleList([nn.ConvTranspose2d(chs[i], chs[i+1], 2, 2) for i in range(len(chs)-1)])\n",
    "        self.dec_blocks = nn.ModuleList([Block(chs[i], chs[i+1]) for i in range(len(chs)-1)]) \n",
    "        \n",
    "    def forward(self, x, encoder_features):\n",
    "        for i in range(len(self.chs)-1):\n",
    "            x        = self.upconvs[i](x)\n",
    "            enc_ftrs = self.crop(encoder_features[i], x)\n",
    "            x        = torch.cat([x, enc_ftrs], dim=1)\n",
    "            x        = self.dec_blocks[i](x)\n",
    "        return x\n",
    "    \n",
    "    def crop(self, enc_ftrs, x):\n",
    "        _, _, H, W = x.shape\n",
    "        enc_ftrs   = torchvision.transforms.CenterCrop([H, W])(enc_ftrs)\n",
    "        return enc_ftrs"
   ]
  },
  {
   "cell_type": "code",
   "execution_count": 84,
   "id": "eb4c0575",
   "metadata": {},
   "outputs": [],
   "source": [
    "class UNet_Train(nn.Module):\n",
    "    def __init__(self, enc_chs=(5,64,128,256,512,1024), dec_chs=(1024, 512, 256, 128, 64), num_class=1, retain_dim=True, out_sz=(256,256)):\n",
    "        super().__init__()\n",
    "        self.encoder     = Encoder(enc_chs)\n",
    "        self.decoder     = Decoder(dec_chs)\n",
    "        self.head        = nn.Conv2d(dec_chs[-1], num_class, 1)\n",
    "        #print(dec_chs[-1])\n",
    "        self.retain_dim  = retain_dim\n",
    "        self.out_sz=out_sz\n",
    "\n",
    "    def forward(self, x):\n",
    "        enc_ftrs = self.encoder(x)\n",
    "        out      = self.decoder(enc_ftrs[::-1][0], enc_ftrs[::-1][1:])\n",
    "        out      = self.head(out)\n",
    "        if self.retain_dim:\n",
    "            out = F.interpolate(out, (256, 256))\n",
    "        return out"
   ]
  },
  {
   "cell_type": "code",
   "execution_count": 85,
   "id": "bef45a32",
   "metadata": {},
   "outputs": [],
   "source": [
    "model = UNet_Train()\n",
    "optimizer = torch.optim.Adam(model.parameters(), lr=1e-3)\n",
    "loss_func = nn.BCEWithLogitsLoss()#.to(device)"
   ]
  },
  {
   "cell_type": "code",
   "execution_count": 86,
   "id": "844c4635",
   "metadata": {},
   "outputs": [
    {
     "name": "stdout",
     "output_type": "stream",
     "text": [
      "torch.Size([1, 5, 256, 256])\n",
      "tensor([[[[ 0.2864,  0.2864,  0.2864,  ...,  0.5565,  0.5565,  0.5565],\n",
      "          [ 0.2864,  0.2864,  0.2864,  ...,  0.5565,  0.5565,  0.5565],\n",
      "          [ 0.2864,  0.2864,  0.2864,  ...,  0.5565,  0.5565,  0.5565],\n",
      "          ...,\n",
      "          [-0.5162, -0.5162, -0.5162,  ...,  0.3229,  0.3229,  0.3229],\n",
      "          [-0.5162, -0.5162, -0.5162,  ...,  0.3229,  0.3229,  0.3229],\n",
      "          [-0.5162, -0.5162, -0.5162,  ...,  0.3229,  0.3229,  0.3229]]]],\n",
      "       grad_fn=<UpsampleNearest2DBackward1>)\n",
      "torch.Size([1, 1, 256, 256])\n",
      "torch.Size([256, 256])\n"
     ]
    }
   ],
   "source": [
    "a = torch.FloatTensor(unetArray[0])\n",
    "a = a.unsqueeze(0)\n",
    "print(np.shape(a))\n",
    "print(model(a))\n",
    "print(np.shape(model(a)))\n",
    "print(np.shape(model(a).squeeze(0).squeeze(0)))"
   ]
  },
  {
   "cell_type": "code",
   "execution_count": 87,
   "id": "518596bc",
   "metadata": {},
   "outputs": [
    {
     "name": "stdout",
     "output_type": "stream",
     "text": [
      "(197, 5, 256, 256)\n",
      "(197, 3, 256, 256)\n",
      "torch.Size([1, 256, 256])\n"
     ]
    }
   ],
   "source": [
    "print(np.shape(unetArray))\n",
    "print(np.shape(labels))\n",
    "dataLab = torch.FloatTensor(labels[0][0])\n",
    "\n",
    "print(np.shape(dataLab.unsqueeze(0)))"
   ]
  },
  {
   "cell_type": "code",
   "execution_count": 88,
   "id": "250808b2",
   "metadata": {},
   "outputs": [
    {
     "name": "stdout",
     "output_type": "stream",
     "text": [
      "[Epoch:1], cost = -3.7944793701171875, time = 1.1439402103424072\n",
      "[Epoch:2], cost = -3.363457679748535, time = 1.1229968070983887\n",
      "[Epoch:3], cost = -2.3319833278656006, time = 2.8661680221557617\n",
      "[Epoch:4], cost = -2.6849348545074463, time = 1.5470249652862549\n",
      "[Epoch:5], cost = -12.395492553710938, time = 1.2108588218688965\n",
      "[Epoch:6], cost = -6.081043243408203, time = 1.3194713592529297\n",
      "[Epoch:7], cost = -6.0744948387146, time = 1.1359615325927734\n",
      "[Epoch:8], cost = -13.09618091583252, time = 1.0681428909301758\n",
      "[Epoch:9], cost = -18.882362365722656, time = 1.876979112625122\n",
      "[Epoch:10], cost = -11.894464492797852, time = 1.257636547088623\n",
      "training Finished!\n"
     ]
    }
   ],
   "source": [
    "for epoch in range(10):\n",
    "    loss = 0\n",
    "    t0 = 0\n",
    "    t1 = 0\n",
    "    for iteration in range(30):\n",
    "        \n",
    "        optimizer.zero_grad()\n",
    "        data = torch.FloatTensor(unetArray[iteration]).unsqueeze(0)\n",
    "        t0 = time.time()\n",
    "        pred_mask = model(data)\n",
    "        dataLabel = torch.FloatTensor(labels[iteration][0])\n",
    "        loss = loss_func(pred_mask, dataLabel.unsqueeze(0).unsqueeze(0))\n",
    "        loss.backward()\n",
    "        optimizer.step()\n",
    "        t1 = time.time()\n",
    "    print('[Epoch:{}], cost = {}, time = {}'.format(epoch+1, loss, t1-t0))\n",
    "print('training Finished!')"
   ]
  },
  {
   "cell_type": "code",
   "execution_count": null,
   "id": "9e443841",
   "metadata": {},
   "outputs": [],
   "source": []
  }
 ],
 "metadata": {
  "kernelspec": {
   "display_name": "Python 3",
   "language": "python",
   "name": "python3"
  },
  "language_info": {
   "codemirror_mode": {
    "name": "ipython",
    "version": 3
   },
   "file_extension": ".py",
   "mimetype": "text/x-python",
   "name": "python",
   "nbconvert_exporter": "python",
   "pygments_lexer": "ipython3",
   "version": "3.8.8"
  }
 },
 "nbformat": 4,
 "nbformat_minor": 5
}
